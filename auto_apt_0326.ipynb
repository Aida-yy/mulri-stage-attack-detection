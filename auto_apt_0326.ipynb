{
  "nbformat": 4,
  "nbformat_minor": 0,
  "metadata": {
    "colab": {
      "name": "auto_apt_0326.ipynb",
      "provenance": [],
      "collapsed_sections": [
        "KTZIeqpEHQ_E",
        "DtoHEzXnHRDn",
        "5CyxPejd_oTx"
      ]
    },
    "kernelspec": {
      "display_name": "Python 3",
      "language": "python",
      "name": "python3"
    },
    "language_info": {
      "codemirror_mode": {
        "name": "ipython",
        "version": 3
      },
      "file_extension": ".py",
      "mimetype": "text/x-python",
      "name": "python",
      "nbconvert_exporter": "python",
      "pygments_lexer": "ipython3",
      "version": "3.7.4"
    },
    "toc": {
      "base_numbering": 1,
      "nav_menu": {},
      "number_sections": true,
      "sideBar": true,
      "skip_h1_title": false,
      "title_cell": "Table of Contents",
      "title_sidebar": "Contents",
      "toc_cell": false,
      "toc_position": {
        "height": "calc(100% - 180px)",
        "left": "10px",
        "top": "150px",
        "width": "248.352px"
      },
      "toc_section_display": true,
      "toc_window_display": false
    }
  },
  "cells": [
    {
      "cell_type": "markdown",
      "metadata": {
        "id": "lnnzn3VmSTXu",
        "colab_type": "text"
      },
      "source": [
        "基于auto-apt-0312，增加实验次数，对结果求平均"
      ]
    },
    {
      "cell_type": "code",
      "metadata": {
        "colab_type": "code",
        "id": "HD9JImGM_rI2",
        "outputId": "68655578-70c5-4e97-dbe7-a16bb4dbb834",
        "colab": {
          "base_uri": "https://localhost:8080/",
          "height": 124
        }
      },
      "source": [
        "# 挂载google云盘\n",
        "from google.colab import drive\n",
        "drive.mount('/content/drive')"
      ],
      "execution_count": 1,
      "outputs": [
        {
          "output_type": "stream",
          "text": [
            "Go to this URL in a browser: https://accounts.google.com/o/oauth2/auth?client_id=947318989803-6bn6qk8qdgf4n4g3pfee6491hc0brc4i.apps.googleusercontent.com&redirect_uri=urn%3aietf%3awg%3aoauth%3a2.0%3aoob&response_type=code&scope=email%20https%3a%2f%2fwww.googleapis.com%2fauth%2fdocs.test%20https%3a%2f%2fwww.googleapis.com%2fauth%2fdrive%20https%3a%2f%2fwww.googleapis.com%2fauth%2fdrive.photos.readonly%20https%3a%2f%2fwww.googleapis.com%2fauth%2fpeopleapi.readonly\n",
            "\n",
            "Enter your authorization code:\n",
            "··········\n",
            "Mounted at /content/drive\n"
          ],
          "name": "stdout"
        }
      ]
    },
    {
      "cell_type": "code",
      "metadata": {
        "id": "qsdlLn9RV-83",
        "colab_type": "code",
        "outputId": "597056c9-9fe2-46c3-b72e-d0f24cc6c299",
        "colab": {
          "base_uri": "https://localhost:8080/",
          "height": 52
        }
      },
      "source": [
        "!cat /proc/cpuinfo | grep model\\ name"
      ],
      "execution_count": 0,
      "outputs": [
        {
          "output_type": "stream",
          "text": [
            "model name\t: Intel(R) Xeon(R) CPU @ 2.20GHz\n",
            "model name\t: Intel(R) Xeon(R) CPU @ 2.20GHz\n"
          ],
          "name": "stdout"
        }
      ]
    },
    {
      "cell_type": "code",
      "metadata": {
        "colab_type": "code",
        "id": "mZRxOpa2_v6o",
        "colab": {}
      },
      "source": [
        "path = \"/content/drive/My Drive/Colab Notebooks/multi-step-attack/\"\n",
        "# path = \"./\""
      ],
      "execution_count": 0,
      "outputs": []
    },
    {
      "cell_type": "markdown",
      "metadata": {
        "colab_type": "text",
        "id": "FCqr4Wyy_oP3"
      },
      "source": [
        "**自动关联APT**\\\n",
        "1.维护一个history vector，对新来的new vector做分类\\\n",
        "2.sum polling history vector\\\n",
        "3.加入attention机制"
      ]
    },
    {
      "cell_type": "code",
      "metadata": {
        "colab_type": "code",
        "id": "m86CrKXy_oP-",
        "outputId": "9f1a4043-e30c-4516-b6b7-5a4d79227544",
        "colab": {
          "base_uri": "https://localhost:8080/",
          "height": 64
        }
      },
      "source": [
        "import pandas as pd\n",
        "import numpy as np\n",
        "import matplotlib.pyplot as plt\n",
        "import seaborn as sns\n",
        "import tensorflow as tf\n",
        "from tensorflow import keras\n",
        "import gensim\n",
        "from gensim.models import Word2Vec\n",
        "from tqdm import tqdm\n",
        "import warnings\n",
        "warnings.filterwarnings(\"ignore\")\n",
        "import time"
      ],
      "execution_count": 2,
      "outputs": [
        {
          "output_type": "display_data",
          "data": {
            "text/html": [
              "<p style=\"color: red;\">\n",
              "The default version of TensorFlow in Colab will switch to TensorFlow 2.x on the 27th of March, 2020.<br>\n",
              "We recommend you <a href=\"https://www.tensorflow.org/guide/migrate\" target=\"_blank\">upgrade</a> now\n",
              "or ensure your notebook will continue to use TensorFlow 1.x via the <code>%tensorflow_version 1.x</code> magic:\n",
              "<a href=\"https://colab.research.google.com/notebooks/tensorflow_version.ipynb\" target=\"_blank\">more info</a>.</p>\n"
            ],
            "text/plain": [
              "<IPython.core.display.HTML object>"
            ]
          },
          "metadata": {
            "tags": []
          }
        }
      ]
    },
    {
      "cell_type": "markdown",
      "metadata": {
        "colab_type": "text",
        "id": "ad0rbVY2_oQI"
      },
      "source": [
        "## load data,preprocess"
      ]
    },
    {
      "cell_type": "code",
      "metadata": {
        "colab_type": "code",
        "id": "ONg9sWZT_oQK",
        "colab": {}
      },
      "source": [
        "class DataLoader:\n",
        "    '''\n",
        "    load data;preprocess;embedding;split;time step\n",
        "    '''\n",
        "    def __init__(self):\n",
        "        pass\n",
        "\n",
        "    def load_data(self,path):\n",
        "        data = pd.read_csv(path)\n",
        "        return data\n",
        "    \n",
        "    def processing_data(self,data):\n",
        "        '''\n",
        "        连续变量对数变换离散化\n",
        "        '''\n",
        "        data['Length'] = np.log(data['Length']+0.000001)\n",
        "        data['delta_time'] = np.log(data['delta_time']+0.000001)\n",
        "#         data['Length'] = data['Length']-data['Length'].mean()/data['Length'].std()\n",
        "        data['Length'] = (data['Length']-data['Length'].min())/(data['Length'].max()-data['Length'].min())\n",
        "#         data['delta_time'] = data['delta_time']-data['delta_time'].mean()/data['delta_time'].std()\n",
        "        data['delta_time'] = (data['delta_time']-data['delta_time'].min())/(data['delta_time'].max()-data['delta_time'].min())\n",
        "\n",
        "        data['cat_Length'] = pd.cut(data['Length'].astype('int'),10,labels=False)\n",
        "        data['cat_delta_time'] = pd.cut(data['delta_time'].astype('float'),10,labels=False)\n",
        "        \n",
        "        data = data[[\".\" in Source for Source in data.Source]]\n",
        "\n",
        "        return data\n",
        "\n",
        "    def feature_select(self,data):\n",
        "        '''\n",
        "        ip 特征构建；port 映射\n",
        "        '''\n",
        "        times = 20\n",
        "\n",
        "        ## ip embedding；ip str to int\n",
        "        data['sip_1'] = data['Source'].apply(lambda x:x.split('.')[0])\n",
        "        data['sip_2'] = data['Source'].apply(lambda x:x.split('.')[1])\n",
        "        data['sip_3'] = data['Source'].apply(lambda x:x.split('.')[2])\n",
        "        data['sip_4'] = data['Source'].apply(lambda x:x.split('.')[3])\n",
        "        \n",
        "        data['dip_1'] = data['Destination'].apply(lambda x:x.split('.')[0])\n",
        "        data['dip_2'] = data['Destination'].apply(lambda x:x.split('.')[1])\n",
        "        data['dip_3'] = data['Destination'].apply(lambda x:x.split('.')[2])\n",
        "        data['dip_4'] = data['Destination'].apply(lambda x:x.split('.')[3])\n",
        "\n",
        "        hacked_ports = [21,22,23,25,53,443,110,135,137,138,139,1434]\n",
        "        data['sport'] = data.sport.apply(lambda x: 88888 if x>5000 and x<=65535 else x)\n",
        "        data['dport'] = data.dport.apply(lambda x: 88888 if x>5000 and x<=65535 else x)\n",
        "        data['sport'] = data.sport.apply(lambda x: 99999 if x in hacked_ports else x).apply(lambda x:'p'+str(int(x)))\n",
        "        data['dport'] = data.dport.apply(lambda x: 99999 if x in hacked_ports else x).apply(lambda x:'p'+str(int(x)))\n",
        "\n",
        "        data['cat_delta_time'] = data.cat_delta_time.apply(lambda x:'t'+str(x))\n",
        "        data['cat_Length'] = data.cat_Length.apply(lambda x:'L'+str(x))\n",
        "        data['stage'] = data['class'].astype('int')\n",
        "        data.drop(['No.','Time','utc_time','class','Source','Destination'],axis=1,inplace=True)\n",
        "        data.dropna(inplace=True)\n",
        "        \n",
        "        return data     \n",
        "        \n",
        "    def embedding_mat(self,data,pro_model,port_model,ip_model):\n",
        "\n",
        "#         sentences_ip = [[str(i) for i in range(256)]]\n",
        "#         ip_model = Word2Vec(sentences_ip,size=8,min_count=1,workers=4)\n",
        "#         ip_model.save(\"./temp/ip.bin\")\n",
        "# port = [process_data.sport.tolist()+process_data.dport.tolist()+process_inside1.sport.tolist()+process_inside1.dport.tolist()]\n",
        "# port_model = Word2Vec(port,size=8,min_count=1,workers=4)\n",
        "# port_model.save(\"./temp/port.bin\")\n",
        "\n",
        "        data['pro'] = data['Protocol'].apply(lambda x:pro_model[x].tolist())\n",
        "        data['sp'] = data['sport'].apply(lambda x:port_model[x].tolist())\n",
        "        \n",
        "        data['sip_e1'] = data['sip_1'].apply(lambda x:ip_model[x].tolist())\n",
        "        data['sip_e2'] = data['sip_2'].apply(lambda x:ip_model[x].tolist())\n",
        "        data['sip_e3'] = data['sip_3'].apply(lambda x:ip_model[x].tolist())\n",
        "        data['sip_e4'] = data['sip_4'].apply(lambda x:ip_model[x].tolist())\n",
        "        \n",
        "        data['dip_e1'] = data['dip_1'].apply(lambda x:ip_model[x].tolist())\n",
        "        data['dip_e2'] = data['dip_2'].apply(lambda x:ip_model[x].tolist())\n",
        "        data['dip_e3'] = data['dip_3'].apply(lambda x:ip_model[x].tolist())\n",
        "        data['dip_e4'] = data['dip_4'].apply(lambda x:ip_model[x].tolist())\n",
        "\n",
        "        labels = data.stage.tolist()\n",
        "        if 'Unnamed: 0' in data.columns:\n",
        "            data.drop('Unnamed: 0',axis=1,inplace=True)\n",
        "        data.drop(['Protocol','cat_Length','cat_delta_time','sport','dport','stage',\n",
        "                   'sip_1','sip_2','sip_3','sip_4','dip_1','dip_2','dip_3','dip_4'],\n",
        "                  axis=1,inplace=True)\n",
        "\n",
        "        cols = ['Length','delta_time']\n",
        "        for col in cols:\n",
        "            data[col] = data[col].apply(lambda x:list([x]))\n",
        "\n",
        "        data['all'] = data[cols[0]]+data[cols[1]]+data['pro']+data['sp']+data['sp']+data['sip_e1']+data['sip_e2']+data['sip_e3']+data['sip_e4']+data['dip_e1']+data['dip_e2']+data['dip_e3']+data['dip_e4'] \n",
        "\n",
        "        return data['all'],labels"
      ],
      "execution_count": 0,
      "outputs": []
    },
    {
      "cell_type": "code",
      "metadata": {
        "colab_type": "code",
        "id": "3vmuXp_h_oQT",
        "colab": {}
      },
      "source": [
        "dataloader = DataLoader()"
      ],
      "execution_count": 0,
      "outputs": []
    },
    {
      "cell_type": "code",
      "metadata": {
        "colab_type": "code",
        "id": "JOLhuQZE_oQa",
        "colab": {}
      },
      "source": [
        "pro_model = Word2Vec.load(path+'temp/pro.bin')\n",
        "port_model = Word2Vec.load(path+'temp/port.bin')\n",
        "ip_model = Word2Vec.load(path+'temp/ip.bin')"
      ],
      "execution_count": 0,
      "outputs": []
    },
    {
      "cell_type": "code",
      "metadata": {
        "colab_type": "code",
        "id": "hdzCrKBG_oQe",
        "colab": {}
      },
      "source": [
        "# data = dataloader.load_data(path+\"data/1-inside-labeled.csv\")\n",
        "data = dataloader.load_data(path+\"data/1-dmz-labeled.csv\")"
      ],
      "execution_count": 0,
      "outputs": []
    },
    {
      "cell_type": "markdown",
      "metadata": {
        "colab_type": "text",
        "id": "kKuWyiiHDdJ5"
      },
      "source": [
        "### 划分测试集"
      ]
    },
    {
      "cell_type": "code",
      "metadata": {
        "colab_type": "code",
        "id": "lNXOe8zYH0-K",
        "colab": {}
      },
      "source": [
        "from sklearn.model_selection import train_test_split\n",
        "train_set,test_set = train_test_split(data,test_size=0.2,random_state=42)\n",
        "train_set.sort_index(inplace=True)\n",
        "test_set.sort_index(inplace=True)\n",
        "train_set.reset_index(inplace=True,drop=True)\n",
        "test_set.reset_index(inplace=True,drop=True)"
      ],
      "execution_count": 0,
      "outputs": []
    },
    {
      "cell_type": "code",
      "metadata": {
        "id": "0NHBMX6EHQ-o",
        "colab_type": "code",
        "outputId": "734fba32-9a55-42d5-f5d7-e243894278ac",
        "colab": {
          "base_uri": "https://localhost:8080/",
          "height": 242
        }
      },
      "source": [
        "print(data.shape,train_set.shape,test_set.shape,train_set['class'].value_counts(),test_set['class'].value_counts())"
      ],
      "execution_count": 9,
      "outputs": [
        {
          "output_type": "stream",
          "text": [
            "(394089, 11) (315271, 11) (78818, 11) 0.0    285996\n",
            "5.0     27678\n",
            "1.0       628\n",
            "4.0       424\n",
            "3.0       423\n",
            "2.0       122\n",
            "Name: class, dtype: int64 0.0    71551\n",
            "5.0     6875\n",
            "1.0      157\n",
            "3.0      107\n",
            "4.0      102\n",
            "2.0       26\n",
            "Name: class, dtype: int64\n"
          ],
          "name": "stdout"
        }
      ]
    },
    {
      "cell_type": "code",
      "metadata": {
        "colab_type": "code",
        "id": "WvVv1z-M_oQi",
        "colab": {}
      },
      "source": [
        "process_data = dataloader.feature_select(dataloader.processing_data(train_set))"
      ],
      "execution_count": 0,
      "outputs": []
    },
    {
      "cell_type": "code",
      "metadata": {
        "colab_type": "code",
        "id": "8WS3A6WS_oQ1",
        "colab": {}
      },
      "source": [
        "dataset,labels = dataloader.embedding_mat(process_data.copy(),pro_model,port_model,ip_model)"
      ],
      "execution_count": 0,
      "outputs": []
    },
    {
      "cell_type": "code",
      "metadata": {
        "colab_type": "code",
        "id": "beEHumaD_oQ8",
        "colab": {}
      },
      "source": [
        "import pickle\n",
        "# with open(path+\"temp/autoapt_dataset_dmz1_train.pickle\",'wb') as f:\n",
        "#     pickle.dump(dataset,f)\n",
        "\n",
        "with open(path+\"temp/autoapt_dataset_dmz1_train.pickle\",'rb') as f:\n",
        "    dataset = pickle.load(f)\n",
        "\n",
        "# np.save(path+\"temp/autoapt_dataset_dmz1.npy\",dataset.tolist())\n",
        "# np.save(path+\"temp/autoapt_labels_dmz1.npy\",labels)"
      ],
      "execution_count": 0,
      "outputs": []
    },
    {
      "cell_type": "markdown",
      "metadata": {
        "heading_collapsed": true,
        "id": "KTZIeqpEHQ_E",
        "colab_type": "text"
      },
      "source": [
        "### vocabset"
      ]
    },
    {
      "cell_type": "code",
      "metadata": {
        "hidden": true,
        "id": "vm4NceAsHQ_L",
        "colab_type": "code",
        "colab": {}
      },
      "source": [
        "words = list(pro_model.wv.vocab.keys()) + list(ip_model.wv.vocab.keys())+list(port_model.wv.vocab.keys())\n",
        "vec2word = {}\n",
        "for word in words:\n",
        "    if word in pro_model.wv.vocab.keys():\n",
        "        vec = pro_model[word]\n",
        "    if word in ip_model.wv.vocab.keys():\n",
        "        vec = ip_model[word]\n",
        "    if word in port_model.wv.vocab.keys():\n",
        "        vec = port_model[word]\n",
        "    vec2word[str(vec.tolist())] = word\n",
        "    \n",
        "#还原 向量 到 data\n",
        "def vec_data(vec):\n",
        "    data = []\n",
        "    for i in range(0,len(vec),8):\n",
        "        v = vec[i:i+8]\n",
        "        data.append(vec2word[str(v)])\n",
        "    return data"
      ],
      "execution_count": 0,
      "outputs": []
    },
    {
      "cell_type": "code",
      "metadata": {
        "hidden": true,
        "id": "60VI43FyHQ_Y",
        "colab_type": "code",
        "outputId": "23075efc-5008-48f3-cf0f-3cf0b526caba",
        "colab": {}
      },
      "source": [
        "for i in range(154891,154893):\n",
        "    print(dataset[i][:2]+[vec2word[str(dataset[i][2:18])]]+vec_data(dataset[i][-80:]))"
      ],
      "execution_count": 0,
      "outputs": [
        {
          "output_type": "stream",
          "text": [
            "[0.09949533533975158, 0.7125061981285481, 'ICMP', 'p0', 'p0', '202', '77', '162', '213', '172', '16', '115', '5']\n",
            "[0.09949533533975158, 0.37596457343857287, 'ICMP', 'p0', 'p0', '172', '16', '112', '194', '202', '77', '162', '213']\n"
          ],
          "name": "stdout"
        }
      ]
    },
    {
      "cell_type": "code",
      "metadata": {
        "hidden": true,
        "id": "i6NRZ_xyHQ_m",
        "colab_type": "code",
        "outputId": "f5340da2-c30a-461c-9684-0098463ad0e8",
        "colab": {}
      },
      "source": [
        "np.dot(v_hat2,v_hat2)"
      ],
      "execution_count": 0,
      "outputs": [
        {
          "output_type": "execute_result",
          "data": {
            "text/plain": [
              "1.0000001"
            ]
          },
          "metadata": {
            "tags": []
          },
          "execution_count": 144
        }
      ]
    },
    {
      "cell_type": "code",
      "metadata": {
        "hidden": true,
        "id": "GX_QLoeTHQ_v",
        "colab_type": "code",
        "colab": {}
      },
      "source": [
        "ix = 154892\n",
        "pro =dataset[ix][2:18]\n",
        "sport = dataset[ix][18:36]\n",
        "dport = dataset[ix][36:44]\n",
        "sip = dataset[ix][44:76]\n",
        "dip = dataset[ix][76:]\n",
        "\n",
        "z= []\n",
        "for x in [pro,sport,dport,sip,dip]:\n",
        "    y=np.linalg.norm(pro, keepdims=True)\n",
        "\n",
        "    z.append(x/y)\n",
        "z3 = np.concatenate(z)"
      ],
      "execution_count": 0,
      "outputs": []
    },
    {
      "cell_type": "code",
      "metadata": {
        "hidden": true,
        "id": "PC0xkS6CHQ__",
        "colab_type": "code",
        "colab": {}
      },
      "source": [
        "z0 = np.concatenate(z)"
      ],
      "execution_count": 0,
      "outputs": []
    },
    {
      "cell_type": "code",
      "metadata": {
        "hidden": true,
        "id": "rdyZtxldHRAJ",
        "colab_type": "code",
        "outputId": "7cd4b397-6387-4ac2-d22d-71a3934c7497",
        "colab": {}
      },
      "source": [
        "np.dot(ip_model['202'],ip_model['202'])"
      ],
      "execution_count": 0,
      "outputs": [
        {
          "output_type": "execute_result",
          "data": {
            "text/plain": [
              "0.008836696"
            ]
          },
          "metadata": {
            "tags": []
          },
          "execution_count": 190
        }
      ]
    },
    {
      "cell_type": "code",
      "metadata": {
        "hidden": true,
        "id": "npXcXTkeHRAR",
        "colab_type": "code",
        "colab": {}
      },
      "source": [
        "v_hat = ip_model['101'] / (ip_model['101']**2).sum()**0.5"
      ],
      "execution_count": 0,
      "outputs": []
    },
    {
      "cell_type": "code",
      "metadata": {
        "hidden": true,
        "id": "6KyRQEdqHRAd",
        "colab_type": "code",
        "outputId": "407c9bb3-f80b-4c6e-fce9-9719e2c01909",
        "colab": {}
      },
      "source": [
        "np.dot(v_hat,v_hat)"
      ],
      "execution_count": 0,
      "outputs": [
        {
          "output_type": "execute_result",
          "data": {
            "text/plain": [
              "0.99999994"
            ]
          },
          "metadata": {
            "tags": []
          },
          "execution_count": 184
        }
      ]
    },
    {
      "cell_type": "code",
      "metadata": {
        "hidden": true,
        "id": "nDBHy3CxHRAs",
        "colab_type": "code",
        "colab": {}
      },
      "source": [
        "v_hat2 = ip_model['202'] / (ip_model['202']**2).sum()**0.5"
      ],
      "execution_count": 0,
      "outputs": []
    },
    {
      "cell_type": "code",
      "metadata": {
        "hidden": true,
        "id": "l_YpYQtXHRA2",
        "colab_type": "code",
        "outputId": "e440b841-45cf-448d-da2c-d42d8726c884",
        "colab": {}
      },
      "source": [
        "np.dot(v_hat2,v_hat2)"
      ],
      "execution_count": 0,
      "outputs": [
        {
          "output_type": "execute_result",
          "data": {
            "text/plain": [
              "1.0000001"
            ]
          },
          "metadata": {
            "tags": []
          },
          "execution_count": 182
        }
      ]
    },
    {
      "cell_type": "code",
      "metadata": {
        "hidden": true,
        "id": "F1VTTWyGHRBE",
        "colab_type": "code",
        "outputId": "63d146d5-7587-4694-de4b-87e4b9762116",
        "colab": {}
      },
      "source": [
        "np.dot(v_hat,v_hat2)"
      ],
      "execution_count": 0,
      "outputs": [
        {
          "output_type": "execute_result",
          "data": {
            "text/plain": [
              "0.04601524"
            ]
          },
          "metadata": {
            "tags": []
          },
          "execution_count": 185
        }
      ]
    },
    {
      "cell_type": "markdown",
      "metadata": {
        "colab_type": "text",
        "id": "oDZ1v2m3_oRU"
      },
      "source": [
        "## 构造样本\n",
        "维护一个history vector，对新来的new vector做分类,采样"
      ]
    },
    {
      "cell_type": "code",
      "metadata": {
        "colab_type": "code",
        "id": "hsQmKvPG_oRV",
        "colab": {}
      },
      "source": [
        "dic_s1 = {ix:value for ix,value in enumerate(dataset[process_data.stage == 1].tolist())}\n",
        "dic_s2 = {ix:value for ix,value in enumerate(dataset[process_data.stage == 2].tolist())}\n",
        "dic_s3 = {ix:value for ix,value in enumerate(dataset[process_data.stage == 3].tolist())}\n",
        "dic_s4 = {ix:value for ix,value in enumerate(dataset[process_data.stage == 4].tolist())}\n",
        "dic_s5 = {ix:value for ix,value in enumerate(dataset[process_data.stage == 5].tolist())}\n",
        "dic_normal = {ix:value for ix,value in enumerate(dataset[process_data.stage == 0].tolist())}"
      ],
      "execution_count": 0,
      "outputs": []
    },
    {
      "cell_type": "code",
      "metadata": {
        "colab_type": "code",
        "id": "V-wceVs__oRO",
        "outputId": "c2bdc5ab-9335-4450-e2c0-6fdac07ad1be",
        "colab": {
          "base_uri": "https://localhost:8080/",
          "height": 35
        }
      },
      "source": [
        "print(len(dic_s1),len(dic_s2),len(dic_s3),len(dic_s4),len(dic_s5),len(dic_normal))"
      ],
      "execution_count": 11,
      "outputs": [
        {
          "output_type": "stream",
          "text": [
            "628 122 423 424 27678 282551\n"
          ],
          "name": "stdout"
        }
      ]
    },
    {
      "cell_type": "code",
      "metadata": {
        "colab_type": "code",
        "id": "GVFqBHvK_oRa",
        "colab": {}
      },
      "source": [
        "def get_history(s):\n",
        "    history1,history2,history3,history4,history5 = 0,0,0,0,0\n",
        "    \n",
        "    history_ix1 = np.random.randint(0,len(dic_s1),50)\n",
        "    history1 = [dic_s1[key] for key in history_ix1]\n",
        "    \n",
        "    history_ix2 = np.random.randint(0,len(dic_s2),50)\n",
        "    history2 = [dic_s2[key] for key in history_ix2]\n",
        "    \n",
        "    history_ix3 = np.random.randint(0,len(dic_s3),50)\n",
        "    history3 = [dic_s3[key] for key in history_ix3]\n",
        "    \n",
        "    history_ix4 = np.random.randint(0,len(dic_s4),50)\n",
        "    history4 = [dic_s4[key] for key in history_ix4]\n",
        "    \n",
        "    history_ix5 = np.random.randint(0,len(dic_s5),50)\n",
        "    history5 = [dic_s5[key] for key in history_ix5]\n",
        "\n",
        "    \n",
        "    if s == \"s1\":\n",
        "        history = np.array(history1)\n",
        "    if s == \"s2\":\n",
        "        history = np.array(history2)\n",
        "    if s ==\"s3\":\n",
        "        history = np.array(history3)\n",
        "    if s == \"s4\":\n",
        "        history = np.array(history4)\n",
        "    if s == \"s5\":     \n",
        "        history = np.array(history5)\n",
        "    \n",
        "    return history"
      ],
      "execution_count": 0,
      "outputs": []
    },
    {
      "cell_type": "code",
      "metadata": {
        "colab_type": "code",
        "id": "EG7-o07g_oRh",
        "colab": {}
      },
      "source": [
        "def get_pos(dic):\n",
        "    pos_new_ix = np.random.randint(0,len(dic),1)\n",
        "    pos_new = [dic[key] for key in pos_new_ix]\n",
        "    return pos_new,1"
      ],
      "execution_count": 0,
      "outputs": []
    },
    {
      "cell_type": "code",
      "metadata": {
        "colab_type": "code",
        "id": "s2hhXc_i_oRo",
        "colab": {}
      },
      "source": [
        "feature,target = [],[]\n",
        "#history 存放以前攻击步骤的信息\n",
        "for k in range(400):\n",
        "    if k<100:\n",
        "        history = get_history(\"s1\")\n",
        "        pos_new,label = get_pos(dic_s2)\n",
        "    if k>=100 and k<00:\n",
        "        history = get_history(\"s2\")\n",
        "        pos_new,label = get_pos(dic_s3)\n",
        "    if k>=200 and k<300:\n",
        "        history = get_history(\"s3\")\n",
        "        pos_new,label = get_pos(dic_s4)\n",
        "    if k>=300:\n",
        "        history = get_history(\"s4\")\n",
        "        pos_new,label = get_pos(dic_s5)\n",
        "\n",
        "    for i in range(50):\n",
        "        neg_new_ix = np.random.randint(0,len(dic_normal),1)\n",
        "        neg_new = [dic_normal[key] for key in neg_new_ix]\n",
        "        feature.append((history * neg_new).flatten())\n",
        "#         feature.append(np.concatenate((history,neg_new),axis=None))\n",
        "        target.append(0)\n",
        "\n",
        "#     feature.append(np.concatenate((history,pos_new),axis=None))\n",
        "    feature.append((history * pos_new).flatten())\n",
        "    target.append(label)"
      ],
      "execution_count": 0,
      "outputs": []
    },
    {
      "cell_type": "code",
      "metadata": {
        "colab_type": "code",
        "id": "fP_H-4i7_oRw",
        "outputId": "18c94ce4-62e8-4a1c-b67a-c31f4021d30e",
        "colab": {
          "base_uri": "https://localhost:8080/",
          "height": 35
        }
      },
      "source": [
        "print(len(feature),len(target))"
      ],
      "execution_count": 15,
      "outputs": [
        {
          "output_type": "stream",
          "text": [
            "20400 20400\n"
          ],
          "name": "stdout"
        }
      ]
    },
    {
      "cell_type": "code",
      "metadata": {
        "colab_type": "code",
        "id": "4rD_faqr_oR1",
        "colab": {}
      },
      "source": [
        "from sklearn.model_selection import train_test_split\n",
        "\n",
        "train_x, test_x, train_y,test_y = train_test_split(feature,target, test_size=0.2,random_state=42)"
      ],
      "execution_count": 0,
      "outputs": []
    },
    {
      "cell_type": "markdown",
      "metadata": {
        "colab_type": "text",
        "id": "wDlkHlTf_oR5"
      },
      "source": [
        "## clasifier"
      ]
    },
    {
      "cell_type": "markdown",
      "metadata": {
        "id": "r0AOBJWlHRCo",
        "colab_type": "text"
      },
      "source": [
        "### NN classifier"
      ]
    },
    {
      "cell_type": "code",
      "metadata": {
        "colab_type": "code",
        "id": "1-lAHgYq_oR6",
        "colab": {}
      },
      "source": [
        "# parameter\n",
        "batch_size = 32\n",
        "epochs = 20\n",
        "n_features = 4900\n",
        "droprate = 0.25"
      ],
      "execution_count": 0,
      "outputs": []
    },
    {
      "cell_type": "code",
      "metadata": {
        "colab_type": "code",
        "id": "4j8WwIEY_oR-",
        "outputId": "208dafca-2d86-4e04-f01b-8e55d28cb854",
        "colab": {
          "base_uri": "https://localhost:8080/",
          "height": 106
        }
      },
      "source": [
        "print('Build model...')\n",
        "\n",
        "model = keras.models.Sequential()\n",
        "model.add(keras.layers.Dense(64,input_shape=(n_features,)))\n",
        "model.add(keras.layers.BatchNormalization())\n",
        "model.add(keras.layers.Activation('relu'))\n",
        "model.add(keras.layers.Dropout(droprate))\n",
        "\n",
        "model.add(keras.layers.Dense(32))\n",
        "model.add(keras.layers.BatchNormalization())\n",
        "model.add(keras.layers.Activation('relu'))\n",
        "model.add(keras.layers.Dropout(droprate))\n",
        "\n",
        "model.add(keras.layers.Dense(2))\n",
        "model.add(keras.layers.Activation('softmax'))\n",
        "\n",
        "\n",
        "# filepath=path+\"model/\"+\"weights-improvement-{epoch:02d}-{val_acc:.2f}.h5\"\n",
        "# early_stopping = keras.callbacks.EarlyStopping(monitor='val_loss', patience=2)\n",
        "# checkpoint = keras.callbacks.ModelCheckpoint(filepath, monitor='val_acc', verbose=1, save_best_only=True,mode='max')\n",
        "\n",
        "# callbacks_list = [early_stopping]\n",
        "\n",
        "adam = keras.optimizers.Adam(learning_rate=0.0004)#5e-5\n",
        "model.compile(loss='sparse_categorical_crossentropy',\n",
        "              optimizer=adam,\n",
        "              metrics=['acc'])\n"
      ],
      "execution_count": 18,
      "outputs": [
        {
          "output_type": "stream",
          "text": [
            "Build model...\n",
            "WARNING:tensorflow:From /tensorflow-1.15.2/python3.6/tensorflow_core/python/ops/resource_variable_ops.py:1630: calling BaseResourceVariable.__init__ (from tensorflow.python.ops.resource_variable_ops) with constraint is deprecated and will be removed in a future version.\n",
            "Instructions for updating:\n",
            "If using Keras pass *_constraint arguments to layers.\n"
          ],
          "name": "stdout"
        }
      ]
    },
    {
      "cell_type": "code",
      "metadata": {
        "colab_type": "code",
        "id": "NGMRYa5M_oSE",
        "outputId": "e2b98e0d-1750-482e-9c68-df8695424853",
        "colab": {
          "base_uri": "https://localhost:8080/",
          "height": 225
        }
      },
      "source": [
        "print('Train...')\n",
        "history = model.fit(np.array(train_x),np.array(train_y),\n",
        "                    epochs = 5,\n",
        "                    batch_size = batch_size,\n",
        "                    validation_split=0.1,\n",
        "                    verbose=2,\n",
        "                    #callbacks = callbacks_list\n",
        "                   )"
      ],
      "execution_count": 19,
      "outputs": [
        {
          "output_type": "stream",
          "text": [
            "Train...\n",
            "Train on 14688 samples, validate on 1632 samples\n",
            "Epoch 1/5\n",
            "14688/14688 - 2s - loss: 0.2144 - acc: 0.9308 - val_loss: 0.0397 - val_acc: 0.9933\n",
            "Epoch 2/5\n",
            "14688/14688 - 2s - loss: 0.0568 - acc: 0.9890 - val_loss: 0.0261 - val_acc: 0.9957\n",
            "Epoch 3/5\n",
            "14688/14688 - 2s - loss: 0.0436 - acc: 0.9905 - val_loss: 0.0210 - val_acc: 0.9963\n",
            "Epoch 4/5\n",
            "14688/14688 - 2s - loss: 0.0364 - acc: 0.9910 - val_loss: 0.0184 - val_acc: 0.9963\n",
            "Epoch 5/5\n",
            "14688/14688 - 2s - loss: 0.0336 - acc: 0.9923 - val_loss: 0.0216 - val_acc: 0.9963\n"
          ],
          "name": "stdout"
        }
      ]
    },
    {
      "cell_type": "code",
      "metadata": {
        "colab_type": "code",
        "id": "Up7hwtv3_oSK",
        "colab": {}
      },
      "source": [
        "# model.save(path+\"/model/autoapt_model-0312.h5\")\n",
        "# model = keras.models.load_model(path+\"model/autoapt_model-0312.h5\")"
      ],
      "execution_count": 0,
      "outputs": []
    },
    {
      "cell_type": "code",
      "metadata": {
        "colab_type": "code",
        "id": "rkKryXws_oSO",
        "outputId": "46117ee5-fb17-444a-b02b-0414687ae26b",
        "colab": {
          "base_uri": "https://localhost:8080/",
          "height": 295
        }
      },
      "source": [
        "plt.plot(history.history['loss'])\n",
        "plt.plot(history.history['val_loss'])\n",
        "plt.title(\"model loss\")\n",
        "plt.ylabel(\"loss\")\n",
        "plt.xlabel(\"epoch\")\n",
        "plt.legend([\"train\",\"test\"],loc=\"upper left\")\n",
        "plt.show()\n"
      ],
      "execution_count": 0,
      "outputs": [
        {
          "output_type": "display_data",
          "data": {
            "image/png": "[encoded data removed]",
            "text/plain": [
              "<Figure size 432x288 with 1 Axes>"
            ]
          },
          "metadata": {
            "tags": []
          }
        }
      ]
    },
    {
      "cell_type": "code",
      "metadata": {
        "colab_type": "code",
        "id": "-6nHFj4RusLF",
        "outputId": "f280fdc9-599d-4d04-d5ab-f32a9d679928",
        "colab": {
          "base_uri": "https://localhost:8080/",
          "height": 281
        }
      },
      "source": [
        "from sklearn.metrics import roc_curve\n",
        "train_pred = model.predict(np.array(train_x))[:,1]\n",
        "fpr, tpr, thresholds = roc_curve(train_y, train_pred)\n",
        "\n",
        "def plot_roc_curve(fpr, tpr, label=None):\n",
        "    plt.plot(fpr, tpr, linewidth=2, label=label)\n",
        "    plt.plot([0, 1], [0, 1], 'k--') # Dashed diagonal\n",
        "    plt.axis([-0.01,1.01,-0.01,1.01])\n",
        "    plt.xlabel('False Positive Rate')\n",
        "    plt.ylabel('True Positive Rate')\n",
        "plot_roc_curve(fpr, tpr)\n",
        "plt.show()"
      ],
      "execution_count": 0,
      "outputs": [
        {
          "output_type": "display_data",
          "data": {
            "image/png": "[encoded data removed]",
            "text/plain": [
              "<Figure size 432x288 with 1 Axes>"
            ]
          },
          "metadata": {
            "tags": []
          }
        }
      ]
    },
    {
      "cell_type": "code",
      "metadata": {
        "colab_type": "code",
        "id": "Lo0pS25n_oSS",
        "outputId": "00330c9b-9e2b-49ea-8720-5a5fdbb87635",
        "colab": {
          "base_uri": "https://localhost:8080/",
          "height": 281
        }
      },
      "source": [
        "from sklearn.metrics import roc_curve\n",
        "test_pred = model.predict(np.array(test_x))[:,1]\n",
        "fpr, tpr, thresholds = roc_curve(test_y, test_pred)\n",
        "\n",
        "def plot_roc_curve(fpr, tpr, label=None):\n",
        "    plt.plot(fpr, tpr, linewidth=2, label=label)\n",
        "    plt.plot([0, 1], [0, 1], 'k--') # Dashed diagonal\n",
        "    plt.axis([-0.01,1.01,-0.01,1.01])\n",
        "    plt.xlabel('False Positive Rate')\n",
        "    plt.ylabel('True Positive Rate')\n",
        "plot_roc_curve(fpr, tpr)\n",
        "plt.show()"
      ],
      "execution_count": 0,
      "outputs": [
        {
          "output_type": "display_data",
          "data": {
            "image/png": "[encoded data removed]",
            "text/plain": [
              "<Figure size 432x288 with 1 Axes>"
            ]
          },
          "metadata": {
            "tags": []
          }
        }
      ]
    },
    {
      "cell_type": "code",
      "metadata": {
        "colab_type": "code",
        "id": "qzWCStBasKlR",
        "outputId": "96b57941-c03d-41ac-b9f8-f6894064cf63",
        "colab": {
          "base_uri": "https://localhost:8080/",
          "height": 35
        }
      },
      "source": [
        "from sklearn.metrics import roc_auc_score\n",
        "roc_auc_score(test_y, test_pred)"
      ],
      "execution_count": 0,
      "outputs": [
        {
          "output_type": "execute_result",
          "data": {
            "text/plain": [
              "0.9726429152205619"
            ]
          },
          "metadata": {
            "tags": []
          },
          "execution_count": 73
        }
      ]
    },
    {
      "cell_type": "code",
      "metadata": {
        "colab_type": "code",
        "id": "XmT1fwDlKYw6",
        "outputId": "822cd86e-3a13-4ce7-9dce-03924bb91ed6",
        "colab": {
          "base_uri": "https://localhost:8080/",
          "height": 265
        }
      },
      "source": [
        "from sklearn.metrics import precision_recall_curve\n",
        "precisions, recalls, thresholds = precision_recall_curve(test_y, test_pred)\n",
        "def plot_precision_recall_vs_threshold(precisions, recalls, thresholds):\n",
        "    plt.plot(thresholds, precisions[:-1], \"b--\", label=\"Precision\")\n",
        "    plt.plot(thresholds, recalls[:-1], \"g-\", label=\"Recall\")\n",
        "    plt.legend()\n",
        "\n",
        "plot_precision_recall_vs_threshold(precisions, recalls, thresholds)\n",
        "plt.show()"
      ],
      "execution_count": 0,
      "outputs": [
        {
          "output_type": "display_data",
          "data": {
            "image/png": "[encoded data removed]",
            "text/plain": [
              "<Figure size 432x288 with 1 Axes>"
            ]
          },
          "metadata": {
            "tags": []
          }
        }
      ]
    },
    {
      "cell_type": "code",
      "metadata": {
        "id": "iFMd4yt5GV8c",
        "colab_type": "code",
        "outputId": "0ed7b95b-b894-467c-e43d-b66118460869",
        "colab": {
          "base_uri": "https://localhost:8080/",
          "height": 35
        }
      },
      "source": [
        "pred = model.predict(np.array(test_x))\n",
        "pred = np.argmax(pred,axis=1)\n",
        "\n",
        "print(accuracy_score(test_y, pred),precision_score(test_y, pred), recall_score(test_y, pred),f1_score(test_y, pred),roc_auc_score(test_y,pred))"
      ],
      "execution_count": 0,
      "outputs": [
        {
          "output_type": "stream",
          "text": [
            "0.9938725490196079 0.9354838709677419 0.7341772151898734 0.8226950354609929 0.8665887325636945\n"
          ],
          "name": "stdout"
        }
      ]
    },
    {
      "cell_type": "code",
      "metadata": {
        "colab_type": "code",
        "collapsed": true,
        "id": "i9jsuJAE_oSb",
        "outputId": "21394c28-fbe6-405e-9177-14db9a9cf090",
        "colab": {
          "base_uri": "https://localhost:8080/",
          "height": 380
        }
      },
      "source": [
        "from sklearn.metrics import accuracy_score, precision_score, recall_score\n",
        "print(\"threshold, precision_score, recall_score\")\n",
        "for thes in np.arange(0,1,0.05):\n",
        "    pred = [int(p>thes) for p in test_pred]\n",
        "    print(thes,precision_score(test_y, pred), recall_score(test_y, pred),roc_auc_score(test_y,pred))"
      ],
      "execution_count": 0,
      "outputs": [
        {
          "output_type": "stream",
          "text": [
            "threshold, precision_score, recall_score\n",
            "0.0 0.019362745098039216 1.0 0.5\n",
            "0.05 0.4246575342465753 0.7848101265822784 0.8819076876350532\n",
            "0.1 0.6818181818181818 0.759493670886076 0.8762477102243427\n",
            "0.15000000000000002 0.8082191780821918 0.7468354430379747 0.8716681589096397\n",
            "0.2 0.8194444444444444 0.7468354430379747 0.8717931276674502\n",
            "0.25 0.855072463768116 0.7468354430379747 0.8721680339408818\n",
            "0.30000000000000004 0.8805970149253731 0.7468354430379747 0.8724179714565029\n",
            "0.35000000000000003 0.921875 0.7468354430379747 0.8727928777299345\n",
            "0.4 0.9365079365079365 0.7468354430379747 0.8729178464877451\n",
            "0.45 0.9365079365079365 0.7468354430379747 0.8729178464877451\n",
            "0.5 0.9354838709677419 0.7341772151898734 0.8665887325636945\n",
            "0.55 0.95 0.7215189873417721 0.8603845873974544\n",
            "0.6000000000000001 0.9655172413793104 0.7088607594936709 0.8541804422312144\n",
            "0.65 0.9811320754716981 0.6582278481012658 0.8289889552928223\n",
            "0.7000000000000001 0.98 0.620253164556962 0.8100016135206705\n",
            "0.75 0.9761904761904762 0.5189873417721519 0.7593687021282655\n",
            "0.8 1.0 0.4810126582278481 0.740506329113924\n",
            "0.8500000000000001 1.0 0.43037974683544306 0.7151898734177216\n",
            "0.9 1.0 0.4177215189873418 0.7088607594936709\n",
            "0.9500000000000001 1.0 0.4050632911392405 0.7025316455696202\n"
          ],
          "name": "stdout"
        }
      ]
    },
    {
      "cell_type": "markdown",
      "metadata": {
        "heading_collapsed": true,
        "id": "DtoHEzXnHRDn",
        "colab_type": "text"
      },
      "source": [
        "### SVM 决策树 随机森林 xgboost GBDT "
      ]
    },
    {
      "cell_type": "code",
      "metadata": {
        "hidden": true,
        "id": "BRR0VrCzHRDo",
        "colab_type": "code",
        "colab": {}
      },
      "source": [
        "# define model\n",
        "from sklearn.linear_model import SGDClassifier\n",
        "sgd_clf = SGDClassifier(random_state=42)\n",
        "\n",
        "from sklearn.linear_model import LogisticRegression\n",
        "log_reg = LogisticRegression()\n",
        "\n",
        "from sklearn.pipeline import Pipeline\n",
        "from sklearn.preprocessing import StandardScaler\n",
        "from sklearn.svm import LinearSVC,SVC\n",
        "\n",
        "svm_clf = Pipeline([\n",
        "(\"scaler\", StandardScaler()),\n",
        "(\"linear_svc\", LinearSVC(C=1, loss=\"hinge\")),\n",
        "])\n",
        "\n",
        "\n",
        "poly_kernel_svm_clf = Pipeline([\n",
        "(\"scaler\", StandardScaler()),\n",
        "(\"svm_clf\", SVC(kernel=\"poly\", degree=3, coef0=1, C=5))\n",
        "])\n",
        "\n",
        "\n",
        "rbf_kernel_svm_clf = Pipeline([\n",
        "(\"scaler\", StandardScaler()),\n",
        "(\"svm_clf\", SVC(kernel=\"rbf\", gamma=5, C=0.001,probability=True))\n",
        "])\n",
        "\n",
        "\n",
        "from sklearn.tree import DecisionTreeClassifier\n",
        "\n",
        "tree_clf = DecisionTreeClassifier(max_depth=5)\n",
        "\n",
        "\n",
        "from sklearn.ensemble import RandomForestClassifier\n",
        "rnd_clf = RandomForestClassifier(n_estimators=20, max_leaf_nodes=16,n_jobs=-1)\n",
        "\n",
        "\n",
        "from sklearn.ensemble import AdaBoostClassifier\n",
        "ada_clf = AdaBoostClassifier(n_estimators=20)\n",
        "\n",
        "from sklearn.ensemble import GradientBoostingClassifier\n",
        "gbdt_clf = GradientBoostingClassifier(n_estimators=20, learning_rate=1.0)\n",
        "\n",
        "import xgboost\n",
        "xgb_clf = xgboost.XGBClassifier(max_depth=5, learning_rate=0.1, n_estimators=20, silent=True, objective='reg:logistic')"
      ],
      "execution_count": 0,
      "outputs": []
    },
    {
      "cell_type": "code",
      "metadata": {
        "id": "7CkkuER8CFEg",
        "colab_type": "code",
        "colab": {}
      },
      "source": [
        "def train_clf(X,y):\n",
        "    log_reg.fit(X, y)\n",
        "    # svm_clf.fit(X, y)\n",
        "    # rbf_kernel_svm_clf.fit(X, y)\n",
        "    # tree_clf.fit(X, y)\n",
        "    rnd_clf.fit(X, y)\n",
        "    ada_clf.fit(X, y)\n",
        "    xgb_clf.fit(X,y)\n",
        "    return (log_reg,rnd_clf,ada_clf,xgb_clf)"
      ],
      "execution_count": 0,
      "outputs": []
    },
    {
      "cell_type": "code",
      "metadata": {
        "id": "jao0R-pVCoYX",
        "colab_type": "code",
        "colab": {}
      },
      "source": [
        "import joblib #jbolib模块\n",
        "\n",
        "# joblib.dump(log_reg, path+'model/log_reg.pkl')\n",
        "# joblib.dump(svm_clf, path+'model/svm_clf.pkl')\n",
        "# joblib.dump(rbf_kernel_svm_clf, path+'model/rbf_svm_clf.pkl')\n",
        "# joblib.dump(tree_clf, path+'model/tree_clf.pkl')\n",
        "# joblib.dump(rnd_clf, path+'model/rnd_clf.pkl')\n",
        "# joblib.dump(ada_clf, path+'model/ada_clf.pkl')\n",
        "# joblib.dump(xgb_clf, path+'model/xgb_clf.pkl')\n",
        "\n",
        "\n",
        "# # #读取Model\n",
        "log_reg = joblib.load(path+'model/log_reg.pkl')\n",
        "svm_clf = joblib.load(path+'model/svm_clf.pkl')\n",
        "rbf_svm_clf = joblib.load(path+'model/rbf_svm_clf.pkl')\n",
        "tree_clf = joblib.load(path+'model/tree_clf.pkl')\n",
        "rnd_clf = joblib.load(path+'model/rnd_clf.pkl')\n",
        "ada_clf = joblib.load(path+'model/ada_clf.pkl')\n",
        "xgb_clf = joblib.load(path+'model/xgb_clf.pkl')\n",
        "\n",
        "# nn_clf = keras.models.load_model(path+\"model/autoapt_model-0312.h5\")"
      ],
      "execution_count": 0,
      "outputs": []
    },
    {
      "cell_type": "markdown",
      "metadata": {
        "heading_collapsed": true,
        "id": "ripxm_0aHRDu",
        "colab_type": "text"
      },
      "source": [
        "### performance measures"
      ]
    },
    {
      "cell_type": "code",
      "metadata": {
        "hidden": true,
        "id": "oai4LjP0HRDw",
        "colab_type": "code",
        "colab": {}
      },
      "source": [
        "from sklearn.metrics import roc_curve\n",
        "from sklearn.model_selection import cross_val_predict,cross_val_score\n",
        "\n",
        "def plot_roc_curve(fpr, tpr, label=None):\n",
        "    plt.plot(fpr, tpr, linewidth=2, label=label)\n",
        "    plt.plot([0, 1], [0, 1], 'k--') # Dashed diagonal\n",
        "    plt.axis([-0.01,1.01,-0.01,1.01])\n",
        "    plt.xlabel('False Positive Rate')\n",
        "    plt.ylabel('True Positive Rate')\n",
        "\n",
        "def model_roc_curve(model,inputs,labels,label):\n",
        "    pred = model.predict_proba(inputs)[:,1]\n",
        "    fpr, tpr, thresholds = roc_curve(labels,pred)\n",
        "    plot_roc_curve(fpr, tpr,label)"
      ],
      "execution_count": 0,
      "outputs": []
    },
    {
      "cell_type": "code",
      "metadata": {
        "id": "TNnwBVRQCuw1",
        "colab_type": "code",
        "outputId": "b6cf5e5b-065c-43f2-8aca-020ad1cf02ae",
        "colab": {
          "base_uri": "https://localhost:8080/",
          "height": 35
        }
      },
      "source": [
        "t1 = time.time()\n",
        "fpr, tpr, thresholds = roc_curve(test_y,model.predict(np.array(test_x))[:,1])\n",
        "time.time()-t1"
      ],
      "execution_count": 23,
      "outputs": [
        {
          "output_type": "execute_result",
          "data": {
            "text/plain": [
              "0.33589816093444824"
            ]
          },
          "metadata": {
            "tags": []
          },
          "execution_count": 23
        }
      ]
    },
    {
      "cell_type": "code",
      "metadata": {
        "id": "gODdXkaVsGsD",
        "colab_type": "code",
        "colab": {}
      },
      "source": [
        "log_reg,rnd_clf,ada_clf,xgb_clf = train_clf(np.array(train_x),np.array(train_y))"
      ],
      "execution_count": 0,
      "outputs": []
    },
    {
      "cell_type": "code",
      "metadata": {
        "id": "Tk33AZsOCw8R",
        "colab_type": "code",
        "outputId": "268be13c-92b8-4e69-f866-626b7de1c847",
        "colab": {
          "base_uri": "https://localhost:8080/",
          "height": 281
        }
      },
      "source": [
        "plot_roc_curve(fpr, tpr,\"DNN\")\n",
        "model_roc_curve(log_reg,test_x,test_y,\"logistic reg\")\n",
        "# model_roc_curve(rbf_svm_clf,test_x,test_y,\"rbf_svm\")\n",
        "# model_roc_curve(tree_clf,test_x,test_y,\"desision tree\")\n",
        "model_roc_curve(rnd_clf,test_x,test_y,\"random forest\")\n",
        "model_roc_curve(ada_clf,test_x,test_y,\"adaboost\")\n",
        "model_roc_curve(xgb_clf,test_x,test_y,\"xgboost\")\n",
        "\n",
        "plt.legend(loc =\"lower right\")\n",
        "# plt.savefig(path+\"results/mean-ROC.png\")\n",
        "plt.show()"
      ],
      "execution_count": 26,
      "outputs": [
        {
          "output_type": "display_data",
          "data": {
            "image/png": "[encoded data removed]",
            "text/plain": [
              "<Figure size 432x288 with 1 Axes>"
            ]
          },
          "metadata": {
            "tags": []
          }
        }
      ]
    },
    {
      "cell_type": "code",
      "metadata": {
        "hidden": true,
        "id": "xoFHushtHRD1",
        "colab_type": "code",
        "outputId": "5552ed12-f08c-43c3-9992-d3ba3e0eac9a",
        "colab": {
          "base_uri": "https://localhost:8080/",
          "height": 35
        }
      },
      "source": [
        "from sklearn.metrics import accuracy_score, precision_score, recall_score,f1_score,roc_auc_score\n",
        "print(\"accuracy_score\\t precision_score\\t recall_score\\t f1_score\\t auc\\t time\")\n",
        "\n",
        "def performance_score(model,data):\n",
        "    t0 = time.time()\n",
        "    pred = model.predict(np.array(data))\n",
        "    times = time.time()-t0\n",
        "    print(accuracy_score(test_y, pred),precision_score(test_y, pred), recall_score(test_y, pred),\n",
        "          f1_score(test_y, pred),roc_auc_score(test_y,pred),times)\n",
        "\n",
        "# pre = [int(p>=0.5) for p in model.predict(np.array(test_x))]\n",
        "# print(accuracy_score(test_y, pre),precision_score(test_y, pre), recall_score(test_y, pre),f1_score(test_y, pre),roc_auc_score(test_y,pre))\n",
        "# performance_score(log_reg,test_x)\n",
        "# performance_score(svm_clf,test_x)\n",
        "# performance_score(rnd_clf,test_x)\n",
        "# performance_score(ada_clf,test_x)\n",
        "# performance_score(xgb_clf,test_x)"
      ],
      "execution_count": 30,
      "outputs": [
        {
          "output_type": "stream",
          "text": [
            "accuracy_score\t precision_score\t recall_score\t f1_score\t auc\t time\n"
          ],
          "name": "stdout"
        }
      ]
    },
    {
      "cell_type": "markdown",
      "metadata": {
        "id": "4UUtN8parMEi",
        "colab_type": "text"
      },
      "source": [
        "数据划分20次，所有模型训练20次，结果取平均"
      ]
    },
    {
      "cell_type": "code",
      "metadata": {
        "id": "dcUghT60It36",
        "colab_type": "code",
        "outputId": "b2d0230c-2d46-4004-8230-813b37083f9a",
        "colab": {
          "base_uri": "https://localhost:8080/",
          "height": 86
        }
      },
      "source": [
        "results = {}\n",
        "all_clf = ['nn','log_reg','rnd_clf','ada_clf','xgb_clf']\n",
        "metrics = ['pred','precission','recall','f1','auc','time']\n",
        "\n",
        "from collections import defaultdict\n",
        "results = {}\n",
        "for clf in all_clf:\n",
        "    results[clf]= defaultdict(list)\n",
        "\n",
        "for i in range(20):\n",
        "    x, test_x, y,test_y = train_test_split(feature,target, test_size=0.2,random_state=i)\n",
        "    #划分验证集\n",
        "    train_x, val_x, train_y,val_y = train_test_split(x,y, test_size=0.1,random_state=1)\n",
        "    #训练\n",
        "    model.fit(np.array(train_x),np.array(train_y),epochs = 5,\n",
        "              validation_data=(np.array(val_x),np.array(val_y)),\n",
        "              batch_size = 32,verbose=0)\n",
        "\n",
        "    #ROC(fpr,tpr)\n",
        "    predict = model.predict(np.array(test_x))[:,1]\n",
        "    #precision\\recall\\f1\\auc\\time\n",
        "    t0 = time.time()\n",
        "    pred = model.predict(np.array(test_x))\n",
        "    dtime = time.time()-t0\n",
        "    pred = np.argmax(pred,axis=1)\n",
        "    pre,recall,f1,auc = precision_score(test_y, pred), recall_score(test_y, pred),f1_score(test_y, pred),roc_auc_score(test_y,pred)\n",
        "\n",
        "    eval = [predict,pre,recall,f1,auc,dtime]\n",
        "    for metric,eva in zip(metrics,eval):\n",
        "        results['nn'][metric].append(eva)\n",
        "\n",
        "    # log_reg,rnd_clf,ada_clf,xgb_clf\n",
        "    models = train_clf(np.array(train_x),np.array(train_y))\n",
        "    #存储其他结果\n",
        "    for clf,clf_model in zip(all_clf[1:],models):\n",
        "        predict = clf_model.predict_proba(test_x)[:,1]\n",
        "        t0 = time.time()\n",
        "        pred = clf_model.predict(np.array(test_x))\n",
        "        dtime = time.time()-t0\n",
        "        pre,recall,f1,auc = precision_score(test_y, pred), recall_score(test_y, pred),f1_score(test_y, pred),roc_auc_score(test_y,pred)\n",
        "        eval = [predict,pre,recall,f1,auc,dtime]\n",
        "        for metric,eva in zip(metrics,eval):\n",
        "            results[clf][metric].append(eva)\n",
        "\n",
        "    print(\"No. {} training and evaluation\".format(i+1))"
      ],
      "execution_count": 0,
      "outputs": [
        {
          "output_type": "stream",
          "text": [
            "No. 1 training and evaluation\n",
            "No. 2 training and evaluation\n",
            "No. 3 training and evaluation\n",
            "No. 4 training and evaluation\n"
          ],
          "name": "stdout"
        }
      ]
    },
    {
      "cell_type": "code",
      "metadata": {
        "id": "CjZ-vJx7YutA",
        "colab_type": "code",
        "colab": {
          "base_uri": "https://localhost:8080/",
          "height": 52
        },
        "outputId": "841610d8-2709-4353-d5e8-d072bfb42381"
      },
      "source": [
        "ada_clf.fit(np.array(train_x),np.array(train_y))"
      ],
      "execution_count": 49,
      "outputs": [
        {
          "output_type": "execute_result",
          "data": {
            "text/plain": [
              "AdaBoostClassifier(algorithm='SAMME.R', base_estimator=None, learning_rate=1.0,\n",
              "                   n_estimators=20, random_state=None)"
            ]
          },
          "metadata": {
            "tags": []
          },
          "execution_count": 49
        }
      ]
    },
    {
      "cell_type": "code",
      "metadata": {
        "id": "Obfq5DKbrPHb",
        "colab_type": "code",
        "colab": {
          "base_uri": "https://localhost:8080/",
          "height": 35
        },
        "outputId": "7a80652d-0ac1-4016-dfce-b6c803fbd036"
      },
      "source": [
        "performance_score(ada_clf,test_x)"
      ],
      "execution_count": 59,
      "outputs": [
        {
          "output_type": "stream",
          "text": [
            "0.9958333333333333 0.9436619718309859 0.8375 0.8874172185430463 0.91825 1.1353986263275146\n"
          ],
          "name": "stdout"
        }
      ]
    },
    {
      "cell_type": "code",
      "metadata": {
        "id": "sLyWZgaK_aJ4",
        "colab_type": "code",
        "colab": {
          "base_uri": "https://localhost:8080/",
          "height": 363
        },
        "outputId": "d58725a3-5b03-4bb4-ee73-900317b5c9f9"
      },
      "source": [
        "for clf in all_clf:\n",
        "    for metric in metrics[2:]:\n",
        "        print(clf,metric,np.mean(results[clf][metric]))"
      ],
      "execution_count": 58,
      "outputs": [
        {
          "output_type": "stream",
          "text": [
            "nn precission 0.9794858037111558\n",
            "nn recall 0.7639807365329199\n",
            "nn f1 0.8580986441434032\n",
            "nn auc 0.8818151240232472\n",
            "nn time 0.355022668838501\n",
            "log_reg precission 0.7932880416704171\n",
            "log_reg recall 0.6034399856101312\n",
            "log_reg f1 0.68462013918093\n",
            "log_reg auc 0.8000431584540257\n",
            "log_reg time 0.0861161231994629\n",
            "rnd_clf precission 0.9831834564175909\n",
            "rnd_clf recall 0.9459357348897228\n",
            "rnd_clf f1 0.9640195553410991\n",
            "rnd_clf auc 0.972792616997137\n",
            "rnd_clf time 0.24132843017578126\n",
            "xgb_clf precission 0.9809596037765053\n",
            "xgb_clf recall 0.8121925794096055\n",
            "xgb_clf f1 0.8875942456538148\n",
            "xgb_clf auc 0.9059210642821036\n",
            "xgb_clf time 0.2541662693023682\n"
          ],
          "name": "stdout"
        }
      ]
    },
    {
      "cell_type": "markdown",
      "metadata": {
        "colab_type": "text",
        "id": "oDTsAVBM_oSh"
      },
      "source": [
        "## testing"
      ]
    },
    {
      "cell_type": "code",
      "metadata": {
        "colab_type": "code",
        "id": "14IZuTo0_oSi",
        "colab": {}
      },
      "source": [
        "# port_model.wv.vocab"
      ],
      "execution_count": 0,
      "outputs": []
    },
    {
      "cell_type": "code",
      "metadata": {
        "colab_type": "code",
        "id": "tq8Aemuv_oSn",
        "colab": {}
      },
      "source": [
        "test_set = dataloader.load_data(path+\"data/1-inside-labeled.csv\")\n",
        "process_test = dataloader.feature_select(dataloader.processing_data(test_set))\n",
        "# dataset,labels = dataloader.embedding_mat(process_data,pro_model,port_model,ip_model)"
      ],
      "execution_count": 0,
      "outputs": []
    },
    {
      "cell_type": "code",
      "metadata": {
        "colab_type": "code",
        "id": "el18PH68_oSr",
        "colab": {}
      },
      "source": [
        "test_s1 = process_test[process_test.stage == 1]\n",
        "history_ix = np.random.choice(test_s1.index,50)\n",
        "history,_ = dataloader.embedding_mat(process_test.loc[history_ix],pro_model,port_model,ip_model)\n",
        "history = np.array(history.tolist())"
      ],
      "execution_count": 0,
      "outputs": []
    },
    {
      "cell_type": "code",
      "metadata": {
        "colab_type": "code",
        "id": "3mKLUdUiImG7",
        "outputId": "c852b928-8ecb-4af0-bd8f-af0a49f8595c",
        "colab": {
          "base_uri": "https://localhost:8080/",
          "height": 121
        }
      },
      "source": [
        "print(test_s1.index,process_test.shape,process_test[process_test.stage == 2].index[0],process_test[process_test.stage == 5].index[0])"
      ],
      "execution_count": 0,
      "outputs": [
        {
          "output_type": "stream",
          "text": [
            "Int64Index([154891, 154892, 154910, 154911, 155029, 155030, 155224, 155225,\n",
            "            155475, 155476, 155522, 155523, 155553, 155554, 155614, 155615,\n",
            "            155645, 155646, 155647, 155648, 155692, 155693, 155699, 155700,\n",
            "            155941, 155942, 155959, 155961, 155999, 156000, 156074, 156075,\n",
            "            156082, 156083, 156147, 156148, 156211, 156212, 156240, 156241],\n",
            "           dtype='int64') (646703, 16) 186631 399236\n"
          ],
          "name": "stdout"
        }
      ]
    },
    {
      "cell_type": "code",
      "metadata": {
        "colab_type": "code",
        "id": "27pHZEg-_oSu",
        "scrolled": true,
        "outputId": "59def747-41be-4aeb-da20-e3a343c85ced",
        "colab": {
          "base_uri": "https://localhost:8080/",
          "height": 777
        }
      },
      "source": [
        "risk,proba = [],[]\n",
        "count,memory = 1,50\n",
        "start = time.time()\n",
        "for i in range(180000,400000):\n",
        "    new,_ = dataloader.embedding_mat(process_test.take([i]),pro_model,port_model,ip_model)\n",
        "    # old_history = history\n",
        "    # history = np.array(history)/(count/count-1)\n",
        "    inputs = (history*new.tolist()).flatten()\n",
        "    prob = model.predict(inputs.reshape(1,-1))[0][0]\n",
        "    if prob >= 0.5 and len(risk)<memory:\n",
        "        risk.append(new.tolist())\n",
        "    if len(risk) >= memory:\n",
        "        # count += 1\n",
        "        # ix = np.random.randint(0,memory,50)\n",
        "        # inp = [risk[i] for i in ix]\n",
        "        history = np.array(history)+np.vstack(risk)\n",
        "        # new_history = np.vstack(risk)\n",
        "        # history = np.vstack(risk)\n",
        "        risk = [] \n",
        "        # risk = risk[memory//2:]\n",
        "    proba.append(np.round(prob,2))\n",
        "    if i%5000 == 0:\n",
        "        print(i,time.time()-start)"
      ],
      "execution_count": 0,
      "outputs": [
        {
          "output_type": "stream",
          "text": [
            "180000 0.15279769897460938\n",
            "185000 89.50110673904419\n",
            "190000 177.44960713386536\n",
            "195000 267.962411403656\n",
            "200000 358.21092677116394\n",
            "205000 447.2537770271301\n",
            "210000 535.3632197380066\n",
            "215000 624.739824295044\n",
            "220000 711.5155313014984\n",
            "225000 795.4944338798523\n",
            "230000 877.3442885875702\n",
            "235000 959.4191579818726\n",
            "240000 1042.092536687851\n",
            "245000 1124.0509886741638\n",
            "250000 1205.8995633125305\n",
            "255000 1288.7520430088043\n",
            "260000 1371.909628868103\n",
            "265000 1453.5274634361267\n",
            "270000 1534.9909296035767\n",
            "275000 1616.3879039287567\n",
            "280000 1700.2128143310547\n",
            "285000 1789.0048110485077\n",
            "290000 1877.3283112049103\n",
            "295000 1963.1592741012573\n",
            "300000 2050.997756958008\n",
            "305000 2140.1188781261444\n",
            "310000 2228.0969347953796\n",
            "315000 2313.6054260730743\n",
            "320000 2398.696882009506\n",
            "325000 2483.3923263549805\n",
            "330000 2566.8064720630646\n",
            "335000 2648.932074069977\n",
            "340000 2730.596914291382\n",
            "345000 2812.246621608734\n",
            "350000 2894.344540119171\n",
            "355000 2976.1835975646973\n",
            "360000 3058.0806250572205\n",
            "365000 3141.1123554706573\n",
            "370000 3223.038467168808\n",
            "375000 3304.660794019699\n",
            "380000 3386.534345626831\n",
            "385000 3474.1468217372894\n",
            "390000 3562.7207658290863\n",
            "395000 3651.7090253829956\n"
          ],
          "name": "stdout"
        }
      ]
    },
    {
      "cell_type": "code",
      "metadata": {
        "id": "qnxSmK40nsJ4",
        "colab_type": "code",
        "colab": {}
      },
      "source": [
        "# with open(path+\"results/pre_inside_0.6.pickle\",'wb') as f:\n",
        "#     pickle.dump(proba,f)\n",
        "# with open(path+\"results/pre_inside.pickle\",'rb') as f:\n",
        "#     proba_7 = pickle.load(f)"
      ],
      "execution_count": 0,
      "outputs": []
    },
    {
      "cell_type": "code",
      "metadata": {
        "colab_type": "code",
        "id": "LnKk5DIKrmVM",
        "outputId": "87452165-e419-484d-8e83-68733b6f56ba",
        "colab": {
          "base_uri": "https://localhost:8080/",
          "height": 279
        }
      },
      "source": [
        "plt.plot(range(len(proba)),proba)\n",
        "# plt.plot(range(180000,400000),[int(p>0.5) for p in proba],'r')\n",
        "# plt.plot(range(180000,400000),process_test.stage[180000:400000]/5)\n",
        "plt.ylabel(\"probability\")\n",
        "plt.xlabel(\"packets\")\n",
        "# plt.savefig(path+\"results/inside-all-0312-0.6.png\")\n",
        "plt.show()"
      ],
      "execution_count": 0,
      "outputs": [
        {
          "output_type": "display_data",
          "data": {
            "image/png": "[encoded data removed]",
            "text/plain": [
              "<Figure size 432x288 with 1 Axes>"
            ]
          },
          "metadata": {
            "tags": []
          }
        }
      ]
    },
    {
      "cell_type": "code",
      "metadata": {
        "colab_type": "code",
        "id": "XXq0o5uanU-C",
        "outputId": "2b95a289-17e9-4737-f2d9-32765923b786",
        "colab": {
          "base_uri": "https://localhost:8080/",
          "height": 279
        }
      },
      "source": [
        "plt.plot(range(len(proba)),process_test.stage[30000:30000+len(proba)])\n",
        "plt.ylabel(\"attack stage\")\n",
        "plt.xlabel(\"packets\")\n",
        "# plt.savefig(path+\"results/raw-inside-0312.png\")\n",
        "plt.show()"
      ],
      "execution_count": 0,
      "outputs": [
        {
          "output_type": "display_data",
          "data": {
            "image/png": "[encoded data removed]",
            "text/plain": [
              "<Figure size 432x288 with 1 Axes>"
            ]
          },
          "metadata": {
            "tags": []
          }
        }
      ]
    },
    {
      "cell_type": "code",
      "metadata": {
        "colab_type": "code",
        "id": "8orn_oAm_oTh",
        "colab": {}
      },
      "source": [
        ""
      ],
      "execution_count": 0,
      "outputs": []
    },
    {
      "cell_type": "code",
      "metadata": {
        "colab_type": "code",
        "id": "-lsvdPva_oTo",
        "colab": {}
      },
      "source": [
        "# port_model.wv.vocab"
      ],
      "execution_count": 0,
      "outputs": []
    },
    {
      "cell_type": "markdown",
      "metadata": {
        "colab_type": "text",
        "id": "5CyxPejd_oTx"
      },
      "source": [
        "## attention "
      ]
    },
    {
      "cell_type": "code",
      "metadata": {
        "colab_type": "code",
        "id": "wSA5kMP3_oTz",
        "colab": {}
      },
      "source": [
        "# 设置随机种子，方便复现\n",
        "seed = 1234\n",
        "random.seed(seed)\n",
        "np.random.seed(seed)\n",
        "tf.set_random_seed(seed)\n",
        "\n",
        "\n",
        "class Attention(keras.layers.Layer):\n",
        "    def __init__(self, attention_hidden_units=(80, 40, 1), attention_activation=\"sigmoid\", supports_masking=True):\n",
        "        super(Attention, self).__init__()\n",
        "        self.attention_hidden_units = attention_hidden_units\n",
        "        self.attention_activation = attention_activation\n",
        "        self.supports_masking = supports_masking\n",
        "\n",
        "    def build(self, input_shape):\n",
        "        super(Attention, self).build(input_shape)\n",
        "\n",
        "    def call(self, x, mask=None):\n",
        "        '''\n",
        "        i_emb:     [Batch_size, Hidden_units]\n",
        "        hist_emb:        [Batch_size, max_len, Hidden_units]\n",
        "        hist_len: [Batch_size]\n",
        "        '''\n",
        "        assert len(x) == 3\n",
        "\n",
        "        i_emb, hist_emb, hist_len = x[0], x[1], x[2]\n",
        "        hidden_units = K.int_shape(hist_emb)[-1]\n",
        "        max_len = tf.shape(hist_emb)[1]\n",
        "\n",
        "        i_emb = tf.tile(i_emb, [1, max_len])  # (batch_size, max_len * hidden_units)\n",
        "        i_emb = tf.reshape(i_emb, [-1, max_len, hidden_units])  # (batch_size, max_len, hidden_units)\n",
        "        concat = K.concatenate([i_emb, hist_emb, i_emb - hist_emb, i_emb * hist_emb],\n",
        "                               axis=2)  # (batch_size, max_len, hidden_units * 4)\n",
        "\n",
        "        for i in range(len(self.attention_hidden_units)):\n",
        "            activation = None if i == 2 else self.attention_activation\n",
        "            outputs = keras.layers.Dense(self.attention_hidden_units[i], activation=activation)(concat)\n",
        "            concat = outputs\n",
        "\n",
        "        outputs = tf.reshape(outputs, [-1, 1, max_len])  # (batch_size, 1, max_len)\n",
        "\n",
        "        if self.supports_masking:\n",
        "            mask = tf.sequence_mask(hist_len, max_len)  # (batch_size, 1, max_len)\n",
        "            padding = tf.ones_like(outputs) * (-1e12)  \n",
        "            outputs = tf.where(mask, outputs, padding)\n",
        "\n",
        "        # 对outputs进行scale\n",
        "        outputs = outputs / (hidden_units ** 0.5)\n",
        "        outputs = tf.nn.softmax(outputs)  \n",
        "\n",
        "\n",
        "        outputs = tf.matmul(outputs, hist_emb)  # batch_size, 1, hidden_units)\n",
        "\n",
        "        outputs = tf.squeeze(outputs)  # (batch_size, hidden_units)\n",
        "\n",
        "        return outputs\n",
        "\n",
        "    def compute_output_shape(self, input_shape):\n",
        "        return (input_shape[0][0], input_shape[0][-1])\n",
        "\n",
        "\n",
        "\n",
        "def din(item_count, cate_count, hidden_units=128):\n",
        "    '''\n",
        "    :param item_count: 商品数\n",
        "    :param cate_count: 类别数\n",
        "    :param hidden_units: 隐藏单元数\n",
        "    :return: model\n",
        "    '''\n",
        "    target_item = keras.layers.Input(shape=(1,), name='target_item', dtype=\"int32\")  # 点击的item\n",
        "    target_cate = keras.layers.Input(shape=(1,), name='target_cate', dtype=\"int32\")  # 点击的item对应的所属类别\n",
        "    label = keras.layers.Input(shape=(1,), name='label', dtype=\"float32\")  # 是否点击\n",
        "\n",
        "    hist_item_seq = keras.layers.Input(shape=(None,), name=\"hist_item_seq\", dtype=\"int32\")  # 点击序列\n",
        "    hist_cate_seq = keras.layers.Input(shape=(None,), name=\"hist_cate_seq\", dtype=\"int32\")  # 点击序列对应的类别序列\n",
        "\n",
        "    hist_len = keras.layers.Input(shape=(1,), name='hist_len', dtype=\"int32\")  # 序列本来的长度\n",
        "\n",
        "    item_emb = keras.layers.Embedding(input_dim=item_count,\n",
        "                                      output_dim=hidden_units // 2,\n",
        "                                      embeddings_initializer=keras.initializers.RandomNormal(mean=0.0, stddev=1e-4,\n",
        "                                                                                             seed=seed))\n",
        "    cate_emb = keras.layers.Embedding(input_dim=cate_count,\n",
        "                                      output_dim=hidden_units // 2,\n",
        "                                      embeddings_initializer=keras.initializers.RandomNormal(mean=0.0, stddev=1e-4,\n",
        "                                                                                             seed=seed))\n",
        "    item_b = keras.layers.Embedding(input_dim=item_count, output_dim=1,\n",
        "                                    embeddings_initializer=keras.initializers.Constant(0.0))\n",
        "\n",
        "    # get target bias embedding\n",
        "    target_item_bias_emb = item_b(target_item)  # (batch_size, 1, 1)\n",
        "    #\n",
        "    target_item_bias_emb = keras.layers.Lambda(lambda x: K.squeeze(x, axis=1))(target_item_bias_emb)\n",
        "\n",
        "    # get target embedding\n",
        "    target_item_emb = item_emb(target_item)  # (batch_size, 1, hidden_units//2)\n",
        "    target_cate_emb = cate_emb(target_cate)  # (batch_size, 1, hidden_units//2)\n",
        "    i_emb = keras.layers.Lambda(lambda x: K.concatenate([x[0], x[1]], axis=-1))(\n",
        "        [target_item_emb, target_cate_emb])  # (batch_size, 1, hidden_units)\n",
        "    i_emb = keras.layers.Lambda(lambda x: K.squeeze(x, axis=1))(i_emb)  # (batch_size, hidden_units)\n",
        "\n",
        "    # get history item embedding\n",
        "    hist_item_emb = item_emb(hist_item_seq)  # (batch_size, max_len, hidden_units//2)\n",
        "    hist_cate_emb = cate_emb(hist_cate_seq)  # (batch_size, max_len, hidden_units//2)\n",
        "    hist_emb = keras.layers.Lambda(lambda x: K.concatenate([x[0], x[1]], axis=-1))(\n",
        "        [hist_item_emb, hist_cate_emb])  # (batch_size, max_len, hidden_units)\n",
        "\n",
        "    # 构建点击序列与候选的attention关系\n",
        "    din_attention = Attention()([i_emb, hist_emb, hist_len])  # (batch_size, hidden_units)\n",
        "    din_attention = keras.layers.Lambda(lambda x: tf.reshape(x, [-1, hidden_units]))(din_attention)\n",
        "\n",
        "    # keras.layers.BatchNormalization实现暂时有坑，借用paddle相关代码实现\n",
        "    din_attention_fc = keras.layers.Dense(63802)(din_attention)  # (batch_size, item_count + cate_count)\n",
        "    # item_count:  63001   cate_count:  801         hidden_units:  128   (batch_size, item_count + cate_count + hidden_units)\n",
        "    din_item = keras.layers.Lambda(lambda x: K.concatenate([x[0], x[1]], axis=1))([i_emb, din_attention_fc])\n",
        "    din_item = share_weights()(din_item)  # (batch_size, 1)\n",
        "\n",
        "    print(\"logits:\", din_item, target_item_bias_emb)\n",
        "    logits = keras.layers.Add()([din_item, target_item_bias_emb])\n",
        "\n",
        "    label_model = keras.models.Model(inputs=[hist_item_seq, hist_cate_seq, target_item, target_cate, hist_len], outputs=[logits])\n",
        "\n",
        "    train_model = keras.models.Model(inputs=[hist_item_seq, hist_cate_seq, target_item, target_cate, hist_len, label],\n",
        "                               outputs=logits)\n",
        "\n",
        "    # 计算损失函数\n",
        "    loss = K.binary_crossentropy(target=label, output=logits, from_logits=True)\n",
        "    train_model.add_loss(loss)\n",
        "    train_model.compile(optimizer=keras.optimizers.SGD(1e-3), metrics=[\"accuracy\"])\n",
        "\n",
        "    return train_model, label_model"
      ],
      "execution_count": 0,
      "outputs": []
    }
  ]
}